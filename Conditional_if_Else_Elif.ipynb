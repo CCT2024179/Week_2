{
 "cells": [
  {
   "cell_type": "markdown",
   "id": "b7eadac7",
   "metadata": {},
   "source": [
    "## boolean-bool\n",
    "True\n",
    "\n",
    "False"
   ]
  },
  {
   "cell_type": "markdown",
   "id": "e1a3d39a",
   "metadata": {},
   "source": [
    "## Comaprison operators\n",
    "- Equality == (nb two ==)\n",
    "- Inequality !=\n",
    "- Less than <\n",
    "- Greater than >\n",
    "- Less than or euqal to <=\n",
    "- Greater than or equal to >="
   ]
  },
  {
   "cell_type": "code",
   "execution_count": 3,
   "id": "598e8f8f",
   "metadata": {},
   "outputs": [
    {
     "data": {
      "text/plain": [
       "True"
      ]
     },
     "execution_count": 3,
     "metadata": {},
     "output_type": "execute_result"
    }
   ],
   "source": [
    "3==3"
   ]
  },
  {
   "cell_type": "code",
   "execution_count": 4,
   "id": "f29768a4",
   "metadata": {},
   "outputs": [
    {
     "data": {
      "text/plain": [
       "True"
      ]
     },
     "execution_count": 4,
     "metadata": {},
     "output_type": "execute_result"
    }
   ],
   "source": [
    "3!=4"
   ]
  },
  {
   "cell_type": "code",
   "execution_count": 5,
   "id": "a58e5eaa",
   "metadata": {},
   "outputs": [
    {
     "data": {
      "text/plain": [
       "False"
      ]
     },
     "execution_count": 5,
     "metadata": {},
     "output_type": "execute_result"
    }
   ],
   "source": [
    "3<2"
   ]
  },
  {
   "cell_type": "code",
   "execution_count": 7,
   "id": "24fa03a7",
   "metadata": {},
   "outputs": [
    {
     "data": {
      "text/plain": [
       "True"
      ]
     },
     "execution_count": 7,
     "metadata": {},
     "output_type": "execute_result"
    }
   ],
   "source": [
    "4>3"
   ]
  },
  {
   "cell_type": "code",
   "execution_count": 8,
   "id": "00b1cdee",
   "metadata": {},
   "outputs": [
    {
     "data": {
      "text/plain": [
       "True"
      ]
     },
     "execution_count": 8,
     "metadata": {},
     "output_type": "execute_result"
    }
   ],
   "source": [
    "4<=5"
   ]
  },
  {
   "cell_type": "code",
   "execution_count": 9,
   "id": "73851a3b",
   "metadata": {},
   "outputs": [
    {
     "data": {
      "text/plain": [
       "True"
      ]
     },
     "execution_count": 9,
     "metadata": {},
     "output_type": "execute_result"
    }
   ],
   "source": [
    "5>=3"
   ]
  },
  {
   "cell_type": "code",
   "execution_count": 10,
   "id": "cb7e20c4",
   "metadata": {},
   "outputs": [
    {
     "data": {
      "text/plain": [
       "True"
      ]
     },
     "execution_count": 10,
     "metadata": {},
     "output_type": "execute_result"
    }
   ],
   "source": [
    "4==4"
   ]
  },
  {
   "cell_type": "code",
   "execution_count": null,
   "id": "703e9a02",
   "metadata": {},
   "outputs": [],
   "source": []
  }
 ],
 "metadata": {
  "kernelspec": {
   "display_name": "Python 3 (ipykernel)",
   "language": "python",
   "name": "python3"
  },
  "language_info": {
   "codemirror_mode": {
    "name": "ipython",
    "version": 3
   },
   "file_extension": ".py",
   "mimetype": "text/x-python",
   "name": "python",
   "nbconvert_exporter": "python",
   "pygments_lexer": "ipython3",
   "version": "3.11.5"
  }
 },
 "nbformat": 4,
 "nbformat_minor": 5
}
